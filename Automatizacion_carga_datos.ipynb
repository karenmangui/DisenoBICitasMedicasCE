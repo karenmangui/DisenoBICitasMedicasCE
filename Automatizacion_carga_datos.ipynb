{
  "nbformat": 4,
  "nbformat_minor": 0,
  "metadata": {
    "colab": {
      "provenance": []
    },
    "kernelspec": {
      "name": "python3",
      "display_name": "Python 3"
    },
    "language_info": {
      "name": "python"
    }
  },
  "cells": [
    {
      "cell_type": "markdown",
      "source": [
        "AUTOMATIZACIÓN DE LA CARGA DE DATOS A AZURE\n",
        "\n",
        "Automatizar la carga de archivos a Azure Blob Storage"
      ],
      "metadata": {
        "id": "GzKCdeu7jFeu"
      }
    },
    {
      "cell_type": "code",
      "source": [
        "# Se instala el paquete azure-storage-blob:\n",
        "!pip install azure-storage-blob"
      ],
      "metadata": {
        "colab": {
          "base_uri": "https://localhost:8080/"
        },
        "id": "8ktEJHMHSm6h",
        "outputId": "5570db19-3eb1-49f4-ae01-a13f462866f3"
      },
      "execution_count": 28,
      "outputs": [
        {
          "output_type": "stream",
          "name": "stdout",
          "text": [
            "Requirement already satisfied: azure-storage-blob in /usr/local/lib/python3.10/dist-packages (12.19.0)\n",
            "Requirement already satisfied: azure-core<2.0.0,>=1.28.0 in /usr/local/lib/python3.10/dist-packages (from azure-storage-blob) (1.29.5)\n",
            "Requirement already satisfied: cryptography>=2.1.4 in /usr/local/lib/python3.10/dist-packages (from azure-storage-blob) (41.0.5)\n",
            "Requirement already satisfied: typing-extensions>=4.3.0 in /usr/local/lib/python3.10/dist-packages (from azure-storage-blob) (4.8.0)\n",
            "Requirement already satisfied: isodate>=0.6.1 in /usr/local/lib/python3.10/dist-packages (from azure-storage-blob) (0.6.1)\n",
            "Requirement already satisfied: requests>=2.18.4 in /usr/local/lib/python3.10/dist-packages (from azure-core<2.0.0,>=1.28.0->azure-storage-blob) (2.31.0)\n",
            "Requirement already satisfied: six>=1.11.0 in /usr/local/lib/python3.10/dist-packages (from azure-core<2.0.0,>=1.28.0->azure-storage-blob) (1.16.0)\n",
            "Requirement already satisfied: cffi>=1.12 in /usr/local/lib/python3.10/dist-packages (from cryptography>=2.1.4->azure-storage-blob) (1.16.0)\n",
            "Requirement already satisfied: pycparser in /usr/local/lib/python3.10/dist-packages (from cffi>=1.12->cryptography>=2.1.4->azure-storage-blob) (2.21)\n",
            "Requirement already satisfied: charset-normalizer<4,>=2 in /usr/local/lib/python3.10/dist-packages (from requests>=2.18.4->azure-core<2.0.0,>=1.28.0->azure-storage-blob) (3.3.2)\n",
            "Requirement already satisfied: idna<4,>=2.5 in /usr/local/lib/python3.10/dist-packages (from requests>=2.18.4->azure-core<2.0.0,>=1.28.0->azure-storage-blob) (3.4)\n",
            "Requirement already satisfied: urllib3<3,>=1.21.1 in /usr/local/lib/python3.10/dist-packages (from requests>=2.18.4->azure-core<2.0.0,>=1.28.0->azure-storage-blob) (2.0.7)\n",
            "Requirement already satisfied: certifi>=2017.4.17 in /usr/local/lib/python3.10/dist-packages (from requests>=2.18.4->azure-core<2.0.0,>=1.28.0->azure-storage-blob) (2023.7.22)\n"
          ]
        }
      ]
    },
    {
      "cell_type": "code",
      "source": [
        "# Se importa las bibliotecas necesarias:\n",
        "from azure.storage.blob import BlobServiceClient\n",
        "from azure.storage.blob import BlobClient\n",
        "from azure.storage.blob import ContainerClient"
      ],
      "metadata": {
        "id": "_drNBAWcS5HP"
      },
      "execution_count": 47,
      "outputs": []
    },
    {
      "cell_type": "code",
      "execution_count": 48,
      "metadata": {
        "id": "jcmS9dP3SB0i"
      },
      "outputs": [],
      "source": [
        "# Conectarse a la cuenta de almacenamiento de Azure Blob\n",
        "connect_str = \"DefaultEndpointsProtocol=https;AccountName=citasmedicasce;AccountKey=AZTj8wDMr9hBTeaFaNgOMZBgWs6p7m/UKLFcWe3jtIQgm7CkBKvhrPrkiC82WbOrgzk6I7WguUBT+AStfyHn+Q==;EndpointSuffix=core.windows.net\""
      ]
    },
    {
      "cell_type": "code",
      "source": [
        "def upload_file_to_blob(container_name, file_path, blob_name):\n",
        "    try:\n",
        "        # Crear el cliente de servicio Blob con tu cadena de conexión\n",
        "        blob_service_client = BlobServiceClient.from_connection_string(connect_str)\n",
        "\n",
        "        # Obtener el cliente del contenedor\n",
        "        container_client = blob_service_client.get_container_client(container_name)\n",
        "\n",
        "        # Crear el cliente Blob\n",
        "        blob_client = container_client.get_blob_client(blob_name)\n",
        "\n",
        "        # Subir el archivo\n",
        "        with open(file_path, \"rb\") as data:\n",
        "            blob_client.upload_blob(data)\n",
        "\n",
        "        print(f\"Archivo {file_path} subido exitosamente a {container_name}/{blob_name}\")\n",
        "    except Exception as e:\n",
        "        print(f\"Error al subir el archivo: {e}\")"
      ],
      "metadata": {
        "id": "L2o_Src5d-vH"
      },
      "execution_count": 49,
      "outputs": []
    },
    {
      "cell_type": "code",
      "source": [
        "# Cargar un archivo en Azure Blob Storage\n",
        "container_name = \"citasagendadas\"\n",
        "file_path = \"/content/CONSULTA ESTADOS TURNOS AGENDADOS_MAYO.xls\"\n",
        "blob_name = \"citasmedicasce\"\n"
      ],
      "metadata": {
        "id": "HlCbjo_6cd0n"
      },
      "execution_count": 50,
      "outputs": []
    },
    {
      "cell_type": "code",
      "source": [
        "upload_file_to_blob(container_name, file_path, blob_name)"
      ],
      "metadata": {
        "colab": {
          "base_uri": "https://localhost:8080/"
        },
        "id": "qOJQUmnue5b9",
        "outputId": "25804bb1-ec13-4796-b059-c958699604ef"
      },
      "execution_count": 51,
      "outputs": [
        {
          "output_type": "stream",
          "name": "stdout",
          "text": [
            "Archivo /content/CONSULTA ESTADOS TURNOS AGENDADOS_MAYO.xls subido exitosamente a citasagendadas/citasmedicasce\n"
          ]
        }
      ]
    }
  ]
}